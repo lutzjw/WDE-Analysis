{
 "cells": [
  {
   "cell_type": "code",
   "execution_count": null,
   "metadata": {},
   "outputs": [],
   "source": [
    "%matplotlib inline\n",
    "import pandas as pd\n",
    "import math\n",
    "import os\n",
    "import matplotlib.pyplot as plt\n",
    "import numpy as np\n",
    "from pathlib import Path\n",
    "import datetime\n",
    "import cx_Oracle\n",
    "\n",
    "#Get last month's data from the Oracle Database\n",
    "dsn_tns    = cx_Oracle.makedsn(\"y27prd01.isd.upmc.edu\",1521, \"SIMP2\")\n",
    "# connection = cx_Oracle.connect('simmedical_prod', 'PROD7892', \"y27prd01.isd.upmc.edu:1521/SIMP2\")\n",
    "connection = cx_Oracle.connect('simmedical_prod', 'PROD7892', dsn_tns)\n",
    "selectStr = \"\"\"select c.ABBRV COURSE, c.COURSE_ID, to_char(l.CLASS_DATE, 'YYYY-MM-DD') CLASS_DATE,\n",
    "       l.CLASS_ID, a.EVAL_ANSWER_ID SCORE, to_char(m.EVALUATE_DATE, 'YYYY-MM-DD HH24:MI:SS') EVALUATE_DATE,\n",
    "       case when instr(q.QUESTION_TEXT, 'Effectiveness') > 1 then 'E'\n",
    "            when instr(q.QUESTION_TEXT, 'Likeliness')    > 1 then 'L'\n",
    "       else 'F' END \"TYPE\" --Facilitator\n",
    "  from EVALUATION_ANSWERS a, EVALUATION_MAIN m, CLASSES l, courses c, ID0_EVAL_QUESTIONS q\n",
    " where a.EVALUATION_ID = m.EVALUATION_ID\n",
    "   and a.EVAL_QUESTION_ID = q.EVAL_QUESTION_ID\n",
    "   and m.CLASS_ID = l.CLASS_ID\n",
    "   and l.COURSE_ID = c.COURSE_ID\n",
    "   -- This will pull the data from last month (if you run it before the 28th of the month).\n",
    "   and trunc(m.EVALUATE_DATE) between to_date('2019-07-01', 'YYYY-MM-DD')\n",
    "                                  and trunc(sysdate,    'mm')-1\n",
    "--   and trunc(m.EVALUATE_DATE) < to_date('2020-05-01', 'YYYY-MM-DD')\n",
    "   -- Effectiveness of the in-person education you received\n",
    "   and (a.EVAL_QUESTION_ID in (36277, 36336, 36348, 36613, 36858, 36927, 37139, 37180, 37217, 37240, 37284, 37406, 37418, 37724, 37966, 38069, 38108, 38220)\n",
    "       -- Likeliness of recommending this course to a colleague\n",
    "        or a.EVAL_QUESTION_ID in (36855, 36924, 37136, 37176, 37192, 37194, 37214, 37237, 37281, 37299, 37403, 37415, 37721, 37831, 37951, 37963, 38066, 38105, 38219)\n",
    "      -- The facilitator(s) made the educational experience relevant to my training level\n",
    "        or a.EVAL_QUESTION_ID in (36280, 36339, 36351, 36616, 36861, 36930, 37142, 37183, 37220, 37244, 37287, 37409, 37421, 37727, 37969, 38072, 38111, 38223)\n",
    "        )\n",
    "order by EVALUATE_DATE\"\"\"\n",
    "lastDF = pd.read_sql_query(selectStr, con=connection, parse_dates={'CLASS_DATE','EVALUATE_DATE'})\n",
    "print(lastDF.info())\n",
    "print(lastDF.head(20))"
   ]
  }
 ],
 "metadata": {
  "kernelspec": {
   "display_name": "Python 3",
   "language": "python",
   "name": "python3"
  },
  "language_info": {
   "codemirror_mode": {
    "name": "ipython",
    "version": 3
   },
   "file_extension": ".py",
   "mimetype": "text/x-python",
   "name": "python",
   "nbconvert_exporter": "python",
   "pygments_lexer": "ipython3",
   "version": "3.7.4"
  }
 },
 "nbformat": 4,
 "nbformat_minor": 4
}
