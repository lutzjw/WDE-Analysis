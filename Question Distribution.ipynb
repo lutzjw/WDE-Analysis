{
 "cells": [
  {
   "cell_type": "markdown",
   "metadata": {},
   "source": [
    "# WISER SIMS Data Extraction Question Distribution Analysis\n",
    "\n",
    "This takes standard SIMS Data Extraction files and a creates a distribution of the answers for a selected questions and plots it.\n",
    "- Author  : John Lutz <lutzjw@upmc.edu>\n",
    "- Created : 2020-02-25\n",
    "- Edited : 2020-02-25\n",
    "\n",
    "## Some Assumptions\n",
    "- You are using an unaltered SIMS data extraction file\n",
    "- The question must be a multiple choice question of some type (Likert, Selection, etc)\n",
    "- You have an `Analysis/Q-Distribution` directory in the folder your are running this Jupyter notebook. This is where the analysis files will go."
   ]
  },
  {
   "cell_type": "markdown",
   "metadata": {},
   "source": [
    "## Instructions\n",
    "\n",
    "- Change the variables in the section below. The ones you will need to always change are:\n",
    "    - `file`\n",
    "        - Get the Data Extraction file from SIMS\n",
    "            - This is the Excel file straight from SIMS Data Extraction\n",
    "            - You need to have selected \"Correctness\" for the \"Quiz Reponses\" when you generate the file\n",
    "            - Drag it from your computer and drop it into the file browser in Jupyter (just to the left here)\n",
    "            - Right click on the file and select \"Copy path\" from the data file you want and paste it into the `file` variable below\n",
    "    - `startNumber`, `colDiff`\n",
    "        - Most data extraction files have the pre and post questions in the same order, and it's just a matter of finding the starting column \"Q\" number and the columns difference between the pre and the post. So if your Pre Survey questions you want to compare start at Q18 and your equivelant Post Survey starts at Q38, `startNumber=18` and `colDiff=20`. \n",
    "    - `Q1`, `Q2`\n",
    "        - They should be likert scales.\n",
    "        - If your questions are equally spaced Pre vs Post (or whatever), you can just set `startNumber` and `colDiff` and these will be calculated. Otherwise the first items should be \"Q#\" (e.g. \"Q18\"). \n",
    "        - Make sure there are double quotes around the IDs: \"Q23\"\n",
    "        - The second value is what you wan the legend to be labeled (e.g. \"Pre\")\n",
    "        - Don't forget the asteriks if appliccable for retired questions (e.g. \"*Q24\")\n",
    "        - _Both of these questions need to be on the same scale for this to make sense_\n",
    "    - `likertMax`\n",
    "        - This is the maximum value you can select for this liker (typically 5 or 9)\n",
    "    - `runANOVA`\n",
    "        - Set this if you want to run an ANOVA analysis on these two datasets\n",
    "- Once you have made your changes hit the **SHIFT-RETURN** keys together to run the analysis\n",
    "- Scroll to the bottom to see the results"
   ]
  },
  {
   "cell_type": "code",
   "execution_count": null,
   "metadata": {},
   "outputs": [],
   "source": []
  },
  {
   "cell_type": "code",
   "execution_count": 2,
   "metadata": {},
   "outputs": [
    {
     "name": "stdout",
     "output_type": "stream",
     "text": [
      "ANOVA       = 840.357552\n",
      "P-Value     =  0.000000\n",
      "(Actual PValue : 1.3112935149449603e-167\n",
      "Output File : Analysis/Q-Distribution/NUR-1121-Since-2010-Q-Distribution-Q2-Q30.pdf\n"
     ]
    },
    {
     "data": {
      "image/png": "[encoded data removed]",
      "text/plain": [
       "<Figure size 720x720 with 1 Axes>"
      ]
     },
     "metadata": {
      "needs_background": "light"
     },
     "output_type": "display_data"
    }
   ],
   "source": [
    "myJupyterLocation = '/Users/johnlutz/Library/Mobile Documents/com~apple~CloudDocs/Code/Jupyter Notebooks/'\n",
    "\n",
    "file = \"WISER/data/NUR1121/NUR-1121-Since-2010.xlsx\"\n",
    "#Put the first and second Question IDs here.\n",
    "startNumber = 2\n",
    "colDiff    = 28\n",
    "\n",
    "Q1 = [\"Q\"+str(startNumber),         \"Pre\"]\n",
    "Q2 = [\"Q\"+str(startNumber+colDiff), \"Post\"]\n",
    "\n",
    "#Use this if the questions are note evently spaced:\n",
    "#Q1 = [\"Q22\", \"Pre\"]\n",
    "#Q2 = [\"Q32\", \"Pre\"]\n",
    "\n",
    "likertMax = 5\n",
    "runANOVA = True\n",
    "\n",
    "####################################################################\n",
    "#  This is the end of the section where you can change variables   #\n",
    "####################################################################\n",
    "%matplotlib inline\n",
    "import pandas as pd\n",
    "#from scipy import stats\n",
    "import math\n",
    "import os\n",
    "#from dateutil import parser\n",
    "import matplotlib.pyplot as plt\n",
    "import numpy as np\n",
    "import scipy.stats as stats\n",
    "\n",
    "#set the \n",
    "fileLabel = Q1[0]+'-'+Q2[0]\n",
    "\n",
    "#Add my home directory to the path and get the base file name\n",
    "file = myJupyterLocation + file\n",
    "base = os.path.basename(file)\n",
    "fileName=os.path.splitext(base)[0]\n",
    "\n",
    "# Open up the Excel File\n",
    "xl = pd.ExcelFile(file)\n",
    "\n",
    "#Find the Question Text\n",
    "qSheet = xl.parse('Question Dictionary', index_col=\"Q#\")\n",
    "qText = qSheet.loc[Q1[0]].Text\n",
    "        \n",
    "ds = xl.parse('User') # The User sheet holds the data by default.\n",
    "ds['ClsDate'] = pd.to_datetime(ds['ClsDate']) #change string to real datatime\n",
    "\n",
    "q1Results = ds[Q1[0]].replace(-999).dropna()\n",
    "q2Results = ds[Q2[0]].replace(-999).dropna()\n",
    "\n",
    "#Start the plotting...\n",
    "plt.style.use('seaborn-deep') #Nice dark style - seaborn-deep\n",
    "fig, axs = plt.subplots(1,1)\n",
    "#create the histograms\n",
    "axs.hist([q1Results,q2Results], bins=np.arange(1, likertMax+2, 1), rwidth=0.75, label=[Q1[1], Q2[1]])\n",
    "\n",
    "#set the chart size (in inches)\n",
    "fig.set_size_inches(10,10)\n",
    "\n",
    "#Set the number of ticks on the X axis\n",
    "plt.xticks(np.arange(1, likertMax+1, 1))\n",
    "#turn on the grid\n",
    "plt.grid(b=True, axis='y', color='gray')\n",
    "\n",
    "#Get the text for the legend\n",
    "q1Stats = q1Results.describe()\n",
    "q1Str  = Q1[1]+\" (n={:.0f}/\".format(q1Stats[0]) #Count\n",
    "q1Str  = q1Str+\"μ={:4.2f}/\".format(q1Stats[1]) #Mean\n",
    "q1Str  = q1Str+\"σ={:4.2f})\".format(q1Stats[2]) #StdDev\n",
    "\n",
    "q2Stats = q2Results.describe()\n",
    "q2Str  = Q2[1]+\" (n={:.0f}/\".format(q2Stats[0]) #Count\n",
    "q2Str  = q2Str+\"μ={:4.2f}/\".format(q2Stats[1]) #Mean\n",
    "q2Str  = q2Str+\"σ={:4.2f})\".format(q2Stats[2]) #StdDev\n",
    "\n",
    "aNovaStr = \"\"\n",
    "if (runANOVA):\n",
    "    aNova = stats.f_oneway(q1Results, q2Results)\n",
    "    aNovaStr =  \"\\nANOVA = {0:6.2f}\".format(aNova.statistic)\n",
    "    aNovaStr += \" P-Value = {0:5.4f}\".format(aNova.pvalue)\n",
    "    \n",
    "plt.legend([q1Str, q2Str], loc='upper left', fontsize=15)\n",
    "axs.set_title(fileName+ '-Q-Distribution-' +fileLabel+ \"\\n\" +qText +aNovaStr)\n",
    "axs.set_ylabel(\"Count\")\n",
    "axs.set_xlabel(\"1-\" +str(likertMax)+ \" Likert Scale\")\n",
    "\n",
    "outFileStr = 'Analysis/Q-Distribution/' +fileName+'-Q-Distribution-'+fileLabel+'.pdf'\n",
    "if (runANOVA):\n",
    "    print (\"ANOVA       = {0:9.6f}\".format(aNova.statistic))\n",
    "    print (\"P-Value     = {0:9.6f}\".format(aNova.pvalue))\n",
    "    if (aNova.pvalue < 0.00001): #Print the raw data if we have a tiny P value\n",
    "        print (\"(Actual PValue : \" +str(aNova.pvalue))\n",
    "    \n",
    "print ('Output File : ' +outFileStr)\n",
    "plt.savefig(outFileStr)\n"
   ]
  },
  {
   "cell_type": "code",
   "execution_count": null,
   "metadata": {},
   "outputs": [],
   "source": []
  }
 ],
 "metadata": {
  "kernelspec": {
   "display_name": "Python 3",
   "language": "python",
   "name": "python3"
  },
  "language_info": {
   "codemirror_mode": {
    "name": "ipython",
    "version": 3
   },
   "file_extension": ".py",
   "mimetype": "text/x-python",
   "name": "python",
   "nbconvert_exporter": "python",
   "pygments_lexer": "ipython3",
   "version": "3.7.4"
  }
 },
 "nbformat": 4,
 "nbformat_minor": 4
}
